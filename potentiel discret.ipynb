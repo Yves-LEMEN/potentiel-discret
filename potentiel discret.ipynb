{
 "cells": [
  {
   "cell_type": "markdown",
   "metadata": {},
   "source": [
    "## Gradient et dérivée d'un potentiel harmonique défini au moyen d'un tableau\n",
    "\n",
    "On se donne un potentiel harmonique $\\mathrm V = \\omega x^2$ dans un tableau.\n",
    "Le programme ci-dessous calcule la valeur du potentiel en un point donné (interpolation du tableau), et détermine la dérivée du potentiel en ce point."
   ]
  },
  {
   "cell_type": "code",
   "execution_count": 26,
   "metadata": {},
   "outputs": [
    {
     "name": "stdout",
     "output_type": "stream",
     "text": [
      "0.056867241497022825\n",
      "-0.5230874518463623\n"
     ]
    },
    {
     "data": {
      "image/png": "[encoded data removed]",
      "text/plain": [
       "<Figure size 432x288 with 1 Axes>"
      ]
     },
     "metadata": {
      "needs_background": "light"
     },
     "output_type": "display_data"
    }
   ],
   "source": [
    "from pylab import *\n",
    "import numpy as np\n",
    "###############################################################################\n",
    "# Entrée des paramètres +/-l limites d'espace, x point courant, Nn pas, omeg intensité force\n",
    "\n",
    "l=10.0\n",
    "x=2.35\n",
    "Nn=500\n",
    "omeg=0.3\n",
    "\n",
    "t = np.linspace(-l, l, Nn)\n",
    "V = omeg*t**2\n",
    "    \n",
    "###############################################################################\n",
    "# calcul de la valeur du potentiel en un point x avec interpolation\n",
    "def potiel(x,l,Nn, V):\n",
    "        i=int(Nn*(x+l)/(2*l))\n",
    "        r=Nn*(x+l)/(2*l)-i\n",
    "        pot=V[i]+r*(V[i+1]-V[i])\n",
    "        return pot\n",
    "\n",
    "###############################################################################\n",
    "# calcul de la dérivée du potentiel en un point x\n",
    "def dVdx(x, l, Nn, V):\n",
    "        i=int(Nn*(x+l)/(2*l))\n",
    "        r=Nn*(x+l)/(2*l)-i\n",
    "        deltaV=V[i+1]-V[i]\n",
    "        return deltaV\n",
    "\n",
    "##############################################################################\n",
    "#retour programme principal\n",
    "Vprim=dVdx(x,l,Nn,V) \n",
    "Der=Vprim*t\n",
    "print(Der[20])\n",
    "    \n",
    "###############################################################################\n",
    "# représentation graphique\n",
    "rcParams[\"axes.grid\"] = True\n",
    "rcParams['font.size'] = 14\n",
    "rcParams['axes.labelsize'] = 20\n",
    "figure()\n",
    "plt.plot(t,V,'g',linewidth=0.5)\n",
    "plt.plot(x,potiel(x,l,Nn, V),\"o\")\n",
    "\n",
    "xlabel(\"position\")\n",
    "ylabel(\"V(x)\")\n",
    "\n",
    "###############################################################################\n",
    "show()"
   ]
  },
  {
   "cell_type": "code",
   "execution_count": null,
   "metadata": {},
   "outputs": [],
   "source": []
  },
  {
   "cell_type": "code",
   "execution_count": null,
   "metadata": {},
   "outputs": [],
   "source": []
  }
 ],
 "metadata": {
  "kernelspec": {
   "display_name": "Python 3",
   "language": "python",
   "name": "python3"
  },
  "language_info": {
   "codemirror_mode": {
    "name": "ipython",
    "version": 3
   },
   "file_extension": ".py",
   "mimetype": "text/x-python",
   "name": "python",
   "nbconvert_exporter": "python",
   "pygments_lexer": "ipython3",
   "version": "3.7.4"
  }
 },
 "nbformat": 4,
 "nbformat_minor": 2
}
